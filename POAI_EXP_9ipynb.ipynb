{
  "nbformat": 4,
  "nbformat_minor": 0,
  "metadata": {
    "colab": {
      "provenance": [],
      "authorship_tag": "ABX9TyOABo+R+Yjnl2LgJpj+dIBi",
      "include_colab_link": true
    },
    "kernelspec": {
      "name": "python3",
      "display_name": "Python 3"
    },
    "language_info": {
      "name": "python"
    }
  },
  "cells": [
    {
      "cell_type": "markdown",
      "metadata": {
        "id": "view-in-github",
        "colab_type": "text"
      },
      "source": [
        "<a href=\"https://colab.research.google.com/github/Kishoreraj2024/POAI-EXP-9/blob/main/POAI_EXP_9ipynb.ipynb\" target=\"_parent\"><img src=\"https://colab.research.google.com/assets/colab-badge.svg\" alt=\"Open In Colab\"/></a>"
      ]
    },
    {
      "cell_type": "code",
      "source": [
        "class BlocksWorld:\n",
        "    def __init__(self):\n",
        "        self.state = {\n",
        "            \"A\": \"B\",       # A is on B\n",
        "            \"B\": \"table\",   # B is on table\n",
        "            \"C\": \"table\"    # C is on table\n",
        "        }\n",
        "        self.goal = {\n",
        "            \"A\": \"B\",\n",
        "            \"B\": \"C\",\n",
        "            \"C\": \"table\"\n",
        "        }\n",
        "\n",
        "    def is_goal_state(self):\n",
        "        return self.state == self.goal\n",
        "\n",
        "    def move(self, block, destination):\n",
        "        if block in self.state and self.state[block] != destination:\n",
        "            print(f\"Moving {block} from {self.state[block]} to {destination}\")\n",
        "            self.state[block] = destination\n",
        "\n",
        "    def plan_moves(self):\n",
        "        print(\"\\nInitial State:\", self.state)\n",
        "        while not self.is_goal_state():\n",
        "            for block, target in self.goal.items():\n",
        "                if self.state[block] != target:\n",
        "                    self.move(block, target)\n",
        "\n",
        "        print(\"\\nFinal Goal State Reached:\", self.state)\n",
        "\n",
        "# Run the Blocks World Solver\n",
        "bw = BlocksWorld()\n",
        "bw.plan_moves()\n"
      ],
      "metadata": {
        "colab": {
          "base_uri": "https://localhost:8080/"
        },
        "id": "TnEA0_Ci9fWj",
        "outputId": "fc9985f7-1e82-450f-eddf-154464b694b7"
      },
      "execution_count": 13,
      "outputs": [
        {
          "output_type": "stream",
          "name": "stdout",
          "text": [
            "\n",
            "Initial State: {'A': 'B', 'B': 'table', 'C': 'table'}\n",
            "Moving B from table to C\n",
            "\n",
            "Final Goal State Reached: {'A': 'B', 'B': 'C', 'C': 'table'}\n"
          ]
        }
      ]
    }
  ]
}